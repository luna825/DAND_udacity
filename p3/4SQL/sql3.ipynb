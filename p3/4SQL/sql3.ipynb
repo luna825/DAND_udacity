{
 "cells": [
  {
   "cell_type": "markdown",
   "metadata": {},
   "source": [
    "#  13、试用 DB API"
   ]
  },
  {
   "cell_type": "code",
   "execution_count": null,
   "metadata": {
    "collapsed": true
   },
   "outputs": [],
   "source": [
    "# To see how the various functions in the DB-API work, take a look at this code,\n",
    "# then the results that it prints when you press \"Test Run\".\n",
    "#\n",
    "# Then modify this code so that the student records are fetched in sorted order\n",
    "# by student's name.\n",
    "#\n",
    "\n",
    "import sqlite3\n",
    "\n",
    "# Fetch some student records from the database.\n",
    "db = sqlite3.connect(\"students\")\n",
    "c = db.cursor()\n",
    "query = \"select name, id from students order by name ;\" # 添加 order by name\n",
    "c.execute(query)\n",
    "rows = c.fetchall()\n",
    "\n",
    "# First, what data structure did we get?\n",
    "print \"Row data:\"\n",
    "print rows\n",
    "\n",
    "# And let's loop over it too:\n",
    "print\n",
    "print \"Student names:\"\n",
    "for row in rows:\n",
    "  print \"  \", row[0]\n",
    "\n",
    "db.close()\n"
   ]
  },
  {
   "cell_type": "markdown",
   "metadata": {},
   "source": [
    "# 15、在 DB API 中插入"
   ]
  },
  {
   "cell_type": "code",
   "execution_count": null,
   "metadata": {
    "collapsed": true
   },
   "outputs": [],
   "source": [
    "# This code attempts to insert a new row into the database, but doesn't\n",
    "# commit the insertion.  Add a commit call in the right place to make\n",
    "# it work properly.\n",
    "# \n",
    "\n",
    "import sqlite3\n",
    "\n",
    "db = sqlite3.connect(\"testdb\")\n",
    "c = db.cursor()\n",
    "c.execute(\"insert into balloons values ('blue', 'water') \")\n",
    "db.close()\n"
   ]
  },
  {
   "cell_type": "markdown",
   "metadata": {},
   "source": [
    "# 17、一个查询，而非两个"
   ]
  },
  {
   "cell_type": "code",
   "execution_count": null,
   "metadata": {
    "collapsed": true
   },
   "outputs": [],
   "source": [
    "# Find the players whose weight is less than the average.\n",
    "# \n",
    "# The function below performs two database queries in order to find the right players.\n",
    "# Refactor this code so that it performs only one query.\n",
    "#\n",
    "\n",
    "def lightweights(cursor):\n",
    "    \"\"\"Returns a list of the players in the db whose weight is less than the average.\"\"\"\n",
    "    cursor.execute(\"select avg(weight) as av from players;\")\n",
    "    av = cursor.fetchall()[0][0]  # first column of first (and only) row\n",
    "    cursor.execute(\"select name, weight from players where weight < \" + str(av))\n",
    "    return cursor.fetchall()\n"
   ]
  },
  {
   "cell_type": "markdown",
   "metadata": {},
   "source": [
    "# 习题集03\n",
    "# 4、创建发票行"
   ]
  },
  {
   "cell_type": "code",
   "execution_count": null,
   "metadata": {
    "collapsed": true
   },
   "outputs": [],
   "source": [
    "##  After all the success promoting your music tour last section, \n",
    "##  a new friend has asked to partner up and build your own music website!\n",
    "##  You'll need to rebuild your own database and import the data to your new system.\n",
    "\n",
    "##  Let's first take a closer look at how to build and populate your local database.\n",
    "##  The box below shows the Album table schema including Primary and Foreign Keys.\n",
    "##  Have a look at this table and the CREATE TABLE statement below to see how they \n",
    "##  relate.\n",
    "\n",
    "'''\n",
    "First, disconnect from your Chinook database.\n",
    "> .exit\n",
    "\n",
    "Create a new database named whatever you'd like your store to be called.\n",
    "$ sqlite3 UdaciousMusic.db\n",
    "\n",
    "Now we can populate this database with our first table.\n",
    "\n",
    "Here's a graphic showing some information about the Album table.\n",
    "We can use this to build a table in our new database.\n",
    "\n",
    "######################################################################\n",
    "#                         Table: Album                               #\n",
    "######################################################################\n",
    "+--------------------+---------------+-----------------+--------------+\n",
    "|      Columns       |   Data Type   |    Primary Key  |  Foreign Key |\n",
    "+====================+===============+=================+==============+ \n",
    "|      AlbumId           INTEGER            YES              NO       |\n",
    "|      Title             TEXT               NO               NO       |\n",
    "|      ArtistId          INTEGER            NO               YES      |\n",
    "|      UnitPrice         REAL               NO               NO       |\n",
    "|      Quantity          INTEGER            NO               NO       |\n",
    "+====================+===============+=================+==============+ \n",
    "\n",
    "We can use this information to decide how our schema should look.\n",
    "Do you see how the schema below reflects the table above?\n",
    "\n",
    "CREATE TABLE Album\n",
    "(\n",
    "    AlbumId INTEGER PRIMARY KEY,\n",
    "    Title TEXT,\n",
    "    ArtistId INTEGER,\n",
    "    FOREIGN KEY (ArtistId) REFERENCES Artist (ArtistId) \n",
    ");\n",
    "\n",
    "Try pasting the schema into your local database.  \n",
    "Let's check to see if anything happened.\n",
    "\n",
    "sqlite> .tables\n",
    "Album <--- Do you see the Album table?  I hope so!\n",
    "\n",
    "Now, do we have any data in our new table?\n",
    "\n",
    "sqlite> SELECT * FROM Album;\n",
    "\n",
    "Do you see data?  I hope not, we haven't added any yet!\n",
    "\n",
    "Open the Album.sql tab.  You can copy and paste these lines directly into \n",
    "your sqlite terminal. (Use Ctrl+A or Command+A to select all lines when the\n",
    "code editor is selected to select all the lines at once.)\n",
    "\n",
    "Now try to run your query again.  You've got data... NICE!\n",
    "\n",
    "'''\n",
    "##  Use the previous example to help you construct the InvoiceLine table.\n",
    "##  When you're ready, run you query to CREATE and populate the InvoiceLine table \n",
    "##  using data from the InvoiceLine.sql file. \n",
    "\n",
    "QUERY='''CREATE ...\n",
    "'''\n",
    "\n",
    "'''\n",
    "######################################################################\n",
    "#                         Table: InvoiceLine                         #\n",
    "######################################################################\n",
    "+--------------------+---------------+-----------------+--------------+\n",
    "|      Columns       |   Data Type   |    Primary Key  |  Foreign Key |\n",
    "+====================+===============+=================+==============+ \n",
    "|      InvoiceLineId     INTEGER            YES              NO       |\n",
    "|      InvoiceId         INTEGER            NO               YES      |\n",
    "|      TrackId           INTEGER            NO               YES      |\n",
    "|      UnitPrice         REAL               NO               NO       |\n",
    "|      Quantity          INTEGER            NO               NO       |\n",
    "+====================+===============+=================+==============+ \n",
    "'''\n",
    "\n",
    "##  These examples should help you build any remaining tables from the Chinook database.\n",
    "\n",
    "##  Use .schema when connected to the Chinook database to see the tables and columns \n",
    "##  in your Chinook database, and try recreating them in your new database.\n",
    "##  You can populate these tables using the sql files from the Downloadables section, or \n",
    "##  with CSV files, which you'll learn to do next!\n"
   ]
  },
  {
   "cell_type": "markdown",
   "metadata": {},
   "source": [
    "#  7/DB API - 操场"
   ]
  },
  {
   "cell_type": "code",
   "execution_count": 16,
   "metadata": {
    "collapsed": false
   },
   "outputs": [
    {
     "name": "stdout",
     "output_type": "stream",
     "text": [
      "[(0, None)]\n"
     ]
    }
   ],
   "source": [
    "import sqlite3\n",
    "db = sqlite3.connect(\"chinook.db\")\n",
    "c = db.cursor()\n",
    "QUERY = '''\n",
    "SELECT count(MediaType.Name), Genre.Name\n",
    "FROM Track\n",
    "JOIN MediaType  ON  Track.MediaTypeId = MediaType.MediaTypeId\n",
    "JOIN Genre ON Track.GenreId = Genre.GenreId\n",
    "WHERE MediaType.Name = \"MPEF audio file\"\n",
    "AND Genre.Name =\" Pop\";\n",
    "\n",
    "'''\n",
    "c.execute(QUERY)\n",
    "rows = c.fetchall()\n",
    "print rows"
   ]
  },
  {
   "cell_type": "markdown",
   "metadata": {},
   "source": [
    "#  9/本地查询 - 爵士乐音轨"
   ]
  },
  {
   "cell_type": "code",
   "execution_count": 19,
   "metadata": {
    "collapsed": false
   },
   "outputs": [
    {
     "name": "stdout",
     "output_type": "stream",
     "text": [
      "[(32,)]\n"
     ]
    }
   ],
   "source": [
    "import sqlite3\n",
    "db = sqlite3.connect(\"chinook.db\")\n",
    "c = db.cursor()\n",
    "QUERY = '''\n",
    "SELECT count(DISTINCT Email)\n",
    "FROM Customer\n",
    "JOIN Invoice  ON Customer.CustomerId = Invoice.CustomerId  \n",
    "JOIN InvoiceLine  ON Invoice.InvoiceId = InvoiceLine.InvoiceId\n",
    "JOIN Track  ON Track.TrackId = InvoiceLine.TrackId\n",
    "JOIN Genre  ON Track.GenreId = Genre.GenreId\n",
    "WHERE Genre.Name = \"Jazz\";\n",
    "\n",
    "'''\n",
    "c.execute(QUERY)\n",
    "rows = c.fetchall()\n",
    "print rows"
   ]
  },
  {
   "cell_type": "markdown",
   "metadata": {},
   "source": [
    "# 10/本地查询 - 低于平均值的歌曲长度"
   ]
  },
  {
   "cell_type": "code",
   "execution_count": 20,
   "metadata": {
    "collapsed": false
   },
   "outputs": [
    {
     "name": "stdout",
     "output_type": "stream",
     "text": [
      "[(u'Rock', 1162)]\n"
     ]
    }
   ],
   "source": [
    "import sqlite3\n",
    "db = sqlite3.connect(\"chinook.db\")\n",
    "c = db.cursor()\n",
    "QUERY = '''\n",
    "SELECT Genre.Name, count(Genre.Name)\n",
    "FROM Track\n",
    "JOIN Genre ON Track.GenreId = Genre.GenreId,\n",
    "( SELECT  avg(Milliseconds) AS average\n",
    "FROM Track) as subquery\n",
    "WHERE Milliseconds < average\n",
    "GROUP BY Genre.Name\n",
    "ORDER BY COUNT(Genre.Name)\n",
    "DESC LIMIT 1 ;\n",
    "'''\n",
    "c.execute(QUERY)\n",
    "rows = c.fetchall()\n",
    "print rows"
   ]
  },
  {
   "cell_type": "code",
   "execution_count": null,
   "metadata": {
    "collapsed": true
   },
   "outputs": [],
   "source": []
  }
 ],
 "metadata": {
  "kernelspec": {
   "display_name": "Python 2",
   "language": "python",
   "name": "python2"
  },
  "language_info": {
   "codemirror_mode": {
    "name": "ipython",
    "version": 2
   },
   "file_extension": ".py",
   "mimetype": "text/x-python",
   "name": "python",
   "nbconvert_exporter": "python",
   "pygments_lexer": "ipython2",
   "version": "2.7.13"
  }
 },
 "nbformat": 4,
 "nbformat_minor": 2
}
